{
  "nbformat": 4,
  "nbformat_minor": 0,
  "metadata": {
    "colab": {
      "provenance": [],
      "mount_file_id": "1Cdhh8wdDgnZC0QzwiTcjLPBWk5K2ZEWH",
      "authorship_tag": "ABX9TyMjr55qNC2+R0Zb214Si2Ho",
      "include_colab_link": true
    },
    "kernelspec": {
      "name": "python3",
      "display_name": "Python 3"
    },
    "language_info": {
      "name": "python"
    }
  },
  "cells": [
    {
      "cell_type": "markdown",
      "metadata": {
        "id": "view-in-github",
        "colab_type": "text"
      },
      "source": [
        "<a href=\"https://colab.research.google.com/github/stancsz/notebook-scripts/blob/main/powerpoint_to_markdown.ipynb\" target=\"_parent\"><img src=\"https://colab.research.google.com/assets/colab-badge.svg\" alt=\"Open In Colab\"/></a>"
      ]
    },
    {
      "cell_type": "markdown",
      "source": [
        "# PowerPoint to Markdown Converter\n",
        "This script, pptx_to_markdown.py, is designed to convert presentations from PowerPoint (.pptx) format into a markdown (.md) file, complete with formatted text and extracted images. It's particularly useful for documentation, sharing presentations in a text-readable format, or simply for content extraction.\n",
        "\n",
        "Features\n",
        "Text Extraction: Extracts all text from each slide and converts it into markdown format.\n",
        "Image Extraction: Saves all images from the slides as separate files and references them in the markdown file.\n",
        "Prerequisites\n",
        "Before you run the script, ensure you have the following:\n",
        "\n",
        "Python 3.x installed on your system.\n",
        "\n",
        "The python-pptx library, which can be installed via pip:\n",
        "\n",
        "```\n",
        "pip install python-pptx\n",
        "```\n",
        "Usage\n",
        "To use the script, follow these simple steps:\n",
        "\n",
        "Place Your PowerPoint File: Ensure your .pptx file is accessible to the script, preferably in the same directory for ease of use.\n",
        "Edit the Script: Modify the pptx_to_markdown('your_presentation.pptx') line in the script to include the path to your PowerPoint file.\n",
        "Run the Script: Execute the script in your preferred Python environment. It will generate a markdown file named output.md and save images in the same directory."
      ],
      "metadata": {
        "id": "H-oj2-8hRBH5"
      }
    },
    {
      "cell_type": "code",
      "execution_count": null,
      "metadata": {
        "colab": {
          "base_uri": "https://localhost:8080/"
        },
        "id": "pDXHhL92Q7gr",
        "outputId": "fbda3a60-2024-4ab3-b641-22e7673f6677"
      },
      "outputs": [
        {
          "output_type": "stream",
          "name": "stdout",
          "text": [
            "Collecting python-pptx\n",
            "  Downloading python_pptx-0.6.23-py3-none-any.whl (471 kB)\n",
            "\u001b[2K     \u001b[90m━━━━━━━━━━━━━━━━━━━━━━━━━━━━━━━━━━━━━━━━\u001b[0m \u001b[32m471.6/471.6 kB\u001b[0m \u001b[31m3.8 MB/s\u001b[0m eta \u001b[36m0:00:00\u001b[0m\n",
            "\u001b[?25hRequirement already satisfied: lxml>=3.1.0 in /usr/local/lib/python3.10/dist-packages (from python-pptx) (4.9.4)\n",
            "Requirement already satisfied: Pillow>=3.3.2 in /usr/local/lib/python3.10/dist-packages (from python-pptx) (9.4.0)\n",
            "Collecting XlsxWriter>=0.5.7 (from python-pptx)\n",
            "  Downloading XlsxWriter-3.1.9-py3-none-any.whl (154 kB)\n",
            "\u001b[2K     \u001b[90m━━━━━━━━━━━━━━━━━━━━━━━━━━━━━━━━━━━━━━━━\u001b[0m \u001b[32m154.8/154.8 kB\u001b[0m \u001b[31m9.7 MB/s\u001b[0m eta \u001b[36m0:00:00\u001b[0m\n",
            "\u001b[?25hInstalling collected packages: XlsxWriter, python-pptx\n",
            "Successfully installed XlsxWriter-3.1.9 python-pptx-0.6.23\n"
          ]
        }
      ],
      "source": [
        "!pip install python-pptx"
      ]
    },
    {
      "cell_type": "code",
      "source": [
        "from pptx import Presentation\n",
        "import io\n",
        "import os\n",
        "\n",
        "def pptx_to_markdown(pptx_file, output_folder):\n",
        "    # Create the output folder if it doesn't exist\n",
        "    if not os.path.exists(output_folder):\n",
        "        os.makedirs(output_folder)\n",
        "\n",
        "    prs = Presentation(pptx_file)\n",
        "    markdown_content = \"\"\n",
        "\n",
        "    for slide_number, slide in enumerate(prs.slides):\n",
        "        markdown_content += f\"## Slide {slide_number + 1}\\n\"\n",
        "        for shape in slide.shapes:\n",
        "            if hasattr(shape, \"text\"):\n",
        "                markdown_content += f\"{shape.text}\\n\"\n",
        "            if shape.shape_type == 13 and hasattr(shape, 'image'):  # Check for picture and image attribute\n",
        "                image = shape.image\n",
        "                image_bytes = io.BytesIO(image.blob)\n",
        "                image_filename = f\"slide_{slide_number + 1}_image.png\"\n",
        "                image_filepath = os.path.join(output_folder, image_filename)\n",
        "                with open(image_filepath, \"wb\") as f:\n",
        "                    f.write(image_bytes.read())\n",
        "                markdown_content += f\"![Image](./{output_folder}/{image_filename})\\n\"\n",
        "\n",
        "    # Write the markdown content to a file in the output folder\n",
        "    with open(os.path.join(output_folder, 'output.md'), 'w') as md_file:\n",
        "        md_file.write(markdown_content)\n",
        "\n",
        "# Usage\n",
        "# pptx_to_markdown('your_presentation.pptx', 'output_folder')"
      ],
      "metadata": {
        "id": "LeubzxOZRLsY"
      },
      "execution_count": null,
      "outputs": []
    },
    {
      "cell_type": "code",
      "source": [
        "# Change 'your_presentation.pptx' to the path of your PowerPoint file.\n",
        "pptx_to_markdown('/content/drive/MyDrive/megan_ppt.pptx', '/content/drive/MyDrive/megan_output')"
      ],
      "metadata": {
        "id": "6j-LOx5uReeP"
      },
      "execution_count": null,
      "outputs": []
    }
  ]
}