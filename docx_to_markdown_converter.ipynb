{
  "nbformat": 4,
  "nbformat_minor": 0,
  "metadata": {
    "colab": {
      "provenance": [],
      "authorship_tag": "ABX9TyMNrTkVLn9WcBkGRPbNLxdi",
      "include_colab_link": true
    },
    "kernelspec": {
      "name": "python3",
      "display_name": "Python 3"
    },
    "language_info": {
      "name": "python"
    }
  },
  "cells": [
    {
      "cell_type": "markdown",
      "metadata": {
        "id": "view-in-github",
        "colab_type": "text"
      },
      "source": [
        "<a href=\"https://colab.research.google.com/github/stancsz/notebook-scripts/blob/main/docx_to_markdown_converter.ipynb\" target=\"_parent\"><img src=\"https://colab.research.google.com/assets/colab-badge.svg\" alt=\"Open In Colab\"/></a>"
      ]
    },
    {
      "cell_type": "markdown",
      "source": [
        "This script, docx_to_markdown_converter.py, is designed to automate the conversion of Microsoft Word documents (.docx format) into Markdown (.md) format. It utilizes the python-docx library to read the contents of a Word document and the markdownify library to translate the text into Markdown syntax. The script processes each paragraph in the Word document, ensuring that the basic formatting is retained in the conversion.\n",
        "\n",
        "The user needs to provide the path to the Word document and the desired output folder. The script will then create a Markdown file named output.md in the specified folder. If the folder does not exist, it will be created automatically. This tool is particularly useful for those looking to convert documents into a format suitable for web publishing, GitHub repositories, or other platforms where Markdown is the preferred format.\n",
        "\n",
        "It's important to note that while the script handles basic formatting effectively, some complex formatting elements in the Word document may not be perfectly translated due to the differences in capabilities between Word and Markdown formatting."
      ],
      "metadata": {
        "id": "nKCQ1vEX1ZU5"
      }
    },
    {
      "cell_type": "code",
      "execution_count": 1,
      "metadata": {
        "colab": {
          "base_uri": "https://localhost:8080/"
        },
        "id": "rnd8KA_l1LOs",
        "outputId": "38418cef-048f-4a94-8b64-977ec13bce72"
      },
      "outputs": [
        {
          "output_type": "stream",
          "name": "stdout",
          "text": [
            "Collecting python-docx\n",
            "  Downloading python_docx-1.1.0-py3-none-any.whl (239 kB)\n",
            "\u001b[?25l     \u001b[90m━━━━━━━━━━━━━━━━━━━━━━━━━━━━━━━━━━━━━━━━\u001b[0m \u001b[32m0.0/239.6 kB\u001b[0m \u001b[31m?\u001b[0m eta \u001b[36m-:--:--\u001b[0m\r\u001b[2K     \u001b[91m━━━━━━━━━━━━━━━━━━\u001b[0m\u001b[91m╸\u001b[0m\u001b[90m━━━━━━━━━━━━━━━━━━━━━\u001b[0m \u001b[32m112.6/239.6 kB\u001b[0m \u001b[31m3.1 MB/s\u001b[0m eta \u001b[36m0:00:01\u001b[0m\r\u001b[2K     \u001b[90m━━━━━━━━━━━━━━━━━━━━━━━━━━━━━━━━━━━━━━━━\u001b[0m \u001b[32m239.6/239.6 kB\u001b[0m \u001b[31m3.8 MB/s\u001b[0m eta \u001b[36m0:00:00\u001b[0m\n",
            "\u001b[?25hCollecting markdownify\n",
            "  Downloading markdownify-0.11.6-py3-none-any.whl (16 kB)\n",
            "Requirement already satisfied: lxml>=3.1.0 in /usr/local/lib/python3.10/dist-packages (from python-docx) (4.9.4)\n",
            "Requirement already satisfied: typing-extensions in /usr/local/lib/python3.10/dist-packages (from python-docx) (4.5.0)\n",
            "Requirement already satisfied: beautifulsoup4<5,>=4.9 in /usr/local/lib/python3.10/dist-packages (from markdownify) (4.11.2)\n",
            "Requirement already satisfied: six<2,>=1.15 in /usr/local/lib/python3.10/dist-packages (from markdownify) (1.16.0)\n",
            "Requirement already satisfied: soupsieve>1.2 in /usr/local/lib/python3.10/dist-packages (from beautifulsoup4<5,>=4.9->markdownify) (2.5)\n",
            "Installing collected packages: python-docx, markdownify\n",
            "Successfully installed markdownify-0.11.6 python-docx-1.1.0\n"
          ]
        }
      ],
      "source": [
        "!pip install python-docx markdownify"
      ]
    },
    {
      "cell_type": "code",
      "source": [
        "import os\n",
        "from docx import Document\n",
        "from markdownify import markdownify as md\n",
        "\n",
        "def convert_docx_to_md(docx_path, output_folder):\n",
        "    # Read the Word document\n",
        "    doc = Document(docx_path)\n",
        "    full_text = []\n",
        "\n",
        "    # Convert each paragraph in the document to markdown\n",
        "    for para in doc.paragraphs:\n",
        "        full_text.append(md(para.text))\n",
        "\n",
        "    # Combine all paragraphs into a single markdown string\n",
        "    md_text = '\\n'.join(full_text)\n",
        "\n",
        "    # Create the output folder if it doesn't exist\n",
        "    if not os.path.exists(output_folder):\n",
        "        os.makedirs(output_folder)\n",
        "\n",
        "    # Define the output file path\n",
        "    output_path = os.path.join(output_folder, 'output.md')\n",
        "\n",
        "    # Write the markdown text to the output file\n",
        "    with open(output_path, 'w', encoding='utf-8') as f:\n",
        "        f.write(md_text)\n",
        "\n",
        "    print(f\"Markdown file saved to {output_path}\")\n",
        "\n",
        "# Example usage\n",
        "# convert_docx_to_md('path_to_your_word_document.docx', 'path_to_output_folder')"
      ],
      "metadata": {
        "id": "8wCXVWNr1Rhj"
      },
      "execution_count": null,
      "outputs": []
    },
    {
      "cell_type": "code",
      "source": [
        "convert_docx_to_md('path_to_your_word_document.docx', 'path_to_output_folder')"
      ],
      "metadata": {
        "id": "WyfHKV4I1T3K"
      },
      "execution_count": null,
      "outputs": []
    }
  ]
}